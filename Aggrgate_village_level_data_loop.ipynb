{
 "cells": [
  {
   "cell_type": "code",
   "execution_count": 5,
   "metadata": {},
   "outputs": [],
   "source": [
    "import pandas as pd\n",
    "import numpy as np\n",
    "import os\n",
    "import re"
   ]
  },
  {
   "cell_type": "code",
   "execution_count": 11,
   "metadata": {},
   "outputs": [],
   "source": [
    "file_path = 'C:/Users/user/Dropbox/korean_war/GIS_control/새마을총람/새마을총람_nm_kor/'\n",
    "\n",
    "file_ext='xlsx'\n",
    "save_path=file_path+'python_loop/'\n",
    "\n",
    "files=os.listdir(file_path)\n",
    "working_files = [f for f in files if re.search('[\\.]'+file_ext+'$', f)]"
   ]
  },
  {
   "cell_type": "code",
   "execution_count": 12,
   "metadata": {
    "scrolled": true
   },
   "outputs": [],
   "source": [
    "for f in working_files:\n",
    "    df= pd.read_excel(file_path+f,sheet_name='data_entry')\n",
    "\n",
    "    #drop unnecessary rows, columns\n",
    "    df.rename(columns={\"Unnamed: 0\":\"sido\",\"Unnamed: 1\":\"sig\",\"Unnamed: 2\":\"emd\"},inplace=True)\n",
    "    df.drop(df.index[[0,1]],inplace=True)\n",
    "    df.dropna(how='any',subset=['emd'],inplace=True)\n",
    "    df.drop(df.columns[[4,5,38]],axis=1,inplace=True)\n",
    "\n",
    "    #to count the number of villages in each township\n",
    "    df.insert(4,'num_villages',1) \n",
    "    \n",
    "    #convert strings to numerics\n",
    "    for k in df.columns:\n",
    "        if k not in {'sido','sig','emd','code no 1','land_type'}:\n",
    "            df[k]=pd.to_numeric(df[k],errors='coerce')\n",
    "\n",
    "    #obtain farmland area for each township\n",
    "    df.insert(9,'farmland_area',df['farmland_perhousehold']*df['household_total'])\n",
    "\n",
    "    #to calculate the weighted average of distance by household/population of each villages.\n",
    "    df['household_sum']=df.groupby(['sig','emd'])['household_total'].transform('sum')\n",
    "    df['pop_sum']=df.groupby(['sig','emd'])['pop_total'].transform('sum')\n",
    "    df['weight_by_hh']=df['household_total']/df['household_sum']\n",
    "    df['weight_by_pp']=df['pop_total']/df['pop_sum']\n",
    "    df['weighted_distance_hh']=df['distance']*df['weight_by_hh']\n",
    "    df['weighted_distance_pp']=df['distance']*df['weight_by_pp']\n",
    "\n",
    "    #generate land type dummies\n",
    "    df = pd.concat([df, pd.get_dummies(df['land_type'])], axis=1)\n",
    "    df.drop('land_type',axis=1,inplace=True)\n",
    "\n",
    "    #replace missing values with zero\n",
    "    df.replace(np.nan,0,inplace=True)\n",
    "\n",
    "    #aggregate\n",
    "    new_dict={k:(np.average if k =='age' else np.sum) for k in df.columns if k not in {'sido','sig','emd','code no 1'}}\n",
    "    df_agg=df.groupby(['sido','sig','emd'],as_index=False).agg(new_dict)\n",
    "\n",
    "    #retrieve code no 1\n",
    "    codeno1=df.groupby(['sido','sig','emd'],as_index=False)['code no 1'].agg(pd.Series.mode)['code no 1']\n",
    "    df_agg.insert(3,'code no 1',codeno1)\n",
    "\n",
    "    #dropping farmland_perhousehold, distance, household/pop_sum, weight_by_hh/pop\n",
    "    k=[10]\n",
    "    k+=list(range(36,41))\n",
    "    df_agg.drop(df.columns[k],axis=1,inplace=True) \n",
    "    df_agg['age']=df_agg['age'].round(decimals=1) #rounding upto 1st decimal point\n",
    "    df_agg.insert(10,'farmland_perhousehold',df_agg['farmland_area']/df_agg['household_total'])\n",
    "\n",
    "    df_agg.to_excel(save_path+f, \n",
    "              encoding='utf_8_sig',   \n",
    "                index=False)   "
   ]
  },
  {
   "cell_type": "code",
   "execution_count": 13,
   "metadata": {},
   "outputs": [],
   "source": [
    "#append all excel files into one\n",
    "new_path=file_path+'python_loop/'\n",
    "all_files=os.listdir(new_path)\n",
    "\n",
    "append_list=[]\n",
    "for f in all_files:\n",
    "    append_list.append(pd.read_excel(new_path+f))\n",
    "df_app = pd.concat(append_list, ignore_index=True)\n",
    "\n",
    "df_app.to_excel(new_path+'all_provinces_aggregated.xlsx', \n",
    "              encoding='utf_8_sig',   \n",
    "                index=False)   "
   ]
  },
  {
   "cell_type": "code",
   "execution_count": 22,
   "metadata": {},
   "outputs": [],
   "source": [
    "#merge with geocontrol data\n"
   ]
  },
  {
   "cell_type": "code",
   "execution_count": 23,
   "metadata": {},
   "outputs": [],
   "source": []
  },
  {
   "cell_type": "code",
   "execution_count": 33,
   "metadata": {},
   "outputs": [],
   "source": [
    "save_name='merged_emd1970_samaeul.xlsx'\n",
    "merged_df.to_excel(geo_file_path + save_name,\n",
    "                   encoding='utf_8_sig',\n",
    "                   index=False)"
   ]
  },
  {
   "cell_type": "code",
   "execution_count": null,
   "metadata": {},
   "outputs": [],
   "source": []
  }
 ],
 "metadata": {
  "kernelspec": {
   "display_name": "Python 3",
   "language": "python",
   "name": "python3"
  },
  "language_info": {
   "codemirror_mode": {
    "name": "ipython",
    "version": 3
   },
   "file_extension": ".py",
   "mimetype": "text/x-python",
   "name": "python",
   "nbconvert_exporter": "python",
   "pygments_lexer": "ipython3",
   "version": "3.8.5"
  }
 },
 "nbformat": 4,
 "nbformat_minor": 4
}
